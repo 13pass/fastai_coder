{
 "cells": [
  {
   "cell_type": "markdown",
   "metadata": {},
   "source": [
    "## Is it a guinea pig, a hamster or something else?\n",
    "\n",
    "fork from https://www.kaggle.com/code/jhoward/is-it-a-bird-creating-a-model-from-your-own-data"
   ]
  },
  {
   "cell_type": "code",
   "execution_count": 1,
   "metadata": {},
   "outputs": [],
   "source": [
    "#NB: Kaggle requires phone verification to use the internet or a GPU. If you haven't done that yet, the cell below will fail\n",
    "#    This code is only here to check that your internet is enabled. It doesn't do anything else.\n",
    "#    Here's a help thread on getting your phone number verified: https://www.kaggle.com/product-feedback/135367\n",
    "\n",
    "import socket,warnings\n",
    "try:\n",
    "    socket.setdefaulttimeout(1)\n",
    "    socket.socket(socket.AF_INET, socket.SOCK_STREAM).connect(('1.1.1.1', 53))\n",
    "except socket.error as ex: raise Exception(\"STOP: No internet. Click '>|' in top right and set 'Internet' switch to on\")"
   ]
  },
  {
   "cell_type": "code",
   "execution_count": null,
   "metadata": {
    "_kg_hide-input": true,
    "_kg_hide-output": true
   },
   "outputs": [],
   "source": [
    "# It's a good idea to ensure you're running the latest version of any libraries you need.\n",
    "# `!pip install -Uqq <libraries>` upgrades to the latest version of <libraries>\n",
    "# NB: You can safely ignore any warnings or errors pip spits out about running as root or incompatibilities\n",
    "import os\n",
    "iskaggle = os.environ.get('KAGGLE_KERNEL_RUN_TYPE', '')\n",
    "try:\n",
    "    import google.colab\n",
    "    isColab = True\n",
    "except:\n",
    "    isColab = False\n",
    "\n",
    "if iskaggle:\n",
    "    !pip install fastai duckduckgo_search\n",
    "elif isColab:\n",
    "    !pip install -Uqq fastai\n",
    "    !pip install -Uqq duckduckgo_search\n",
    "else:\n",
    "    !pip install -U fastai\n",
    "    !pip install -U duckduckgo_search"
   ]
  },
  {
   "cell_type": "markdown",
   "metadata": {},
   "source": [
    "## Step 1: Download images of guinea pigs, hamsters and other rodents"
   ]
  },
  {
   "cell_type": "code",
   "execution_count": 3,
   "metadata": {
    "_kg_hide-input": true
   },
   "outputs": [],
   "source": [
    "from fastcore.all import *\n",
    "from duckduckgo_search import ddg_images\n",
    "\n",
    "def search_images(term, max_images=30):\n",
    "    print(f\"Searching for '{term}'\")\n",
    "    return L(ddg_images(term, max_results=max_images)).itemgot('image')"
   ]
  },
  {
   "cell_type": "markdown",
   "metadata": {},
   "source": [
    "Our searches seem to be giving reasonable results, so let's grab a few examples of each of \"guinea pig\", \"hamster\" and \"rat\" photos, and save each group of photos to a different folder (I'm also trying to grab a range of lighting conditions here):"
   ]
  },
  {
   "cell_type": "code",
   "execution_count": null,
   "metadata": {},
   "outputs": [],
   "source": [
    "rodents = 'chinchilla','gerbil','guinea pig','hamster','mouse','octodon','rat','squirrel', 'not-a-rodent'\n",
    "path = Path('data/rodents')\n",
    "from time import sleep\n",
    "from fastai.vision.all import *\n",
    "\n",
    "def download_images_and_sleep(dest, term, sleep_time=10):\n",
    "    download_images(dest, urls=search_images(term))\n",
    "    sleep(10)\n",
    "\n",
    "for output_value in rodents:\n",
    "    search_term = output_value\n",
    "    if (output_value == 'not-a-rodent'):\n",
    "        search_term = 'cat'\n",
    "    dest = (path/output_value)\n",
    "    dest.mkdir(exist_ok=True, parents=True)\n",
    "    download_images_and_sleep(dest, f'{search_term} photo')\n",
    "    download_images_and_sleep(dest, f'{search_term} sun photo')\n",
    "    download_images_and_sleep(dest, f'{search_term} shade photo')\n",
    "    resize_images(path/output_value, max_size=400, dest=path/output_value)"
   ]
  },
  {
   "cell_type": "markdown",
   "metadata": {},
   "source": [
    "## Step 2: Train our model"
   ]
  },
  {
   "cell_type": "markdown",
   "metadata": {},
   "source": [
    "Some photos might not download correctly which could cause our model training to fail, so we'll remove them:"
   ]
  },
  {
   "cell_type": "code",
   "execution_count": null,
   "metadata": {},
   "outputs": [],
   "source": [
    "failed = verify_images(get_image_files(path))\n",
    "failed.map(Path.unlink)\n",
    "len(failed)"
   ]
  },
  {
   "cell_type": "markdown",
   "metadata": {},
   "source": [
    "To train a model, we'll need `DataLoaders`, which is an object that contains a *training set* (the images used to create a model) and a *validation set* (the images used to check the accuracy of a model -- not used during training). In `fastai` we can create that easily using a `DataBlock`, and view sample images from it:"
   ]
  },
  {
   "cell_type": "code",
   "execution_count": null,
   "metadata": {},
   "outputs": [],
   "source": [
    "dls = DataBlock(\n",
    "    blocks=(ImageBlock, CategoryBlock), \n",
    "    get_items=get_image_files, \n",
    "    splitter=RandomSplitter(valid_pct=0.2, seed=42),\n",
    "    get_y=parent_label,\n",
    "    item_tfms=[Resize(192, method='squish')]\n",
    ").dataloaders(path, bs=32)\n",
    "\n",
    "dls.show_batch(max_n=12, nrows=4)"
   ]
  },
  {
   "cell_type": "markdown",
   "metadata": {},
   "source": [
    "Here what each of the `DataBlock` parameters means:\n",
    "\n",
    "    blocks=(ImageBlock, CategoryBlock),\n",
    "\n",
    "The inputs to our model are images, and the outputs are categories (in this case, \"bird\" or \"forest\").\n",
    "\n",
    "    get_items=get_image_files, \n",
    "\n",
    "To find all the inputs to our model, run the `get_image_files` function (which returns a list of all image files in a path).\n",
    "\n",
    "    splitter=RandomSplitter(valid_pct=0.2, seed=42),\n",
    "\n",
    "Split the data into training and validation sets randomly, using 20% of the data for the validation set.\n",
    "\n",
    "    get_y=parent_label,\n",
    "\n",
    "The labels (`y` values) is the name of the `parent` of each file (i.e. the name of the folder they're in, which will be *bird* or *forest*).\n",
    "\n",
    "    item_tfms=[Resize(192, method='squish')]\n",
    "\n",
    "Before training, resize each image to 192x192 pixels by \"squishing\" it (as opposed to cropping it)."
   ]
  },
  {
   "cell_type": "markdown",
   "metadata": {},
   "source": [
    "Now we're ready to train our model. The fastest widely used computer vision model is `resnet18`. You can train this in a few minutes, even on a CPU! (On a GPU, it generally takes under 10 seconds...)\n",
    "\n",
    "`fastai` comes with a helpful `fine_tune()` method which automatically uses best practices for fine tuning a pre-trained model, so we'll use that."
   ]
  },
  {
   "cell_type": "code",
   "execution_count": null,
   "metadata": {},
   "outputs": [],
   "source": [
    "learn = vision_learner(dls, resnet18, metrics=error_rate)\n",
    "learn.remove_cb(ProgressCallback)\n",
    "learn.fine_tune(6)"
   ]
  },
  {
   "cell_type": "markdown",
   "metadata": {},
   "source": [
    "## Step 3: Use our model (and build your own!)"
   ]
  },
  {
   "cell_type": "markdown",
   "metadata": {},
   "source": [
    "download a guinea pig image and see if our model can predict it:"
   ]
  },
  {
   "cell_type": "code",
   "execution_count": null,
   "metadata": {},
   "outputs": [],
   "source": [
    "from fastdownload import download_url\n",
    "# for each item of rodents list except the last one, download a photo of that rodent and predict what it is\n",
    "\n",
    "categories = learn.dls.vocab\n",
    "print(f'Categories: {categories}')\n",
    "for item in rodents[:-1]:\n",
    "\turls=search_images(f'{item} photo', max_images=1)\n",
    "\tdest = f'data/misc/{item}.jpg'\n",
    "\tdownload_url(urls[0], dest, show_progress=False)\n",
    "\tim = Image.open(dest)\n",
    "\tim.to_thumb(256,256)\n",
    "\timg = PILImage.create(dest)\n",
    "\tpredicted,_,probs = learn.predict(img)\n",
    "\tprint(f'Predicted: {predicted}')\n",
    "\t# get index for probs item with the highest probability\n",
    "\ttensor_max_index = probs.argmax()\n",
    "\tmax_index = tensor_max_index.item()\n",
    "\tprint(f'max_index: {max_index}')\n",
    "\tprobability = probs[max_index]\n",
    "\tprint(f'Probability float: {probability.item():.04f}')\n",
    "\tif (predicted != rodents[max_index-1]):\n",
    "\t\tprint('predicted field not matching probs max probability!')\n",
    "\tfor i in range(len(rodents)-1):\n",
    "\t\tindex_prob = i\n",
    "\t\tprint(f'index_prob: {index_prob}')\n",
    "\t\tprint(f'{i} {rodents[i]}: {probs[index_prob].item():.04f}')\n",
    "\tprint(f'Probs: {probs}')"
   ]
  },
  {
   "cell_type": "code",
   "execution_count": null,
   "metadata": {},
   "outputs": [],
   "source": []
  }
 ],
 "metadata": {
  "kernelspec": {
   "display_name": "Python 3 (ipykernel)",
   "language": "python",
   "name": "python3"
  },
  "language_info": {
   "codemirror_mode": {
    "name": "ipython",
    "version": 3
   },
   "file_extension": ".py",
   "mimetype": "text/x-python",
   "name": "python",
   "nbconvert_exporter": "python",
   "pygments_lexer": "ipython3",
   "version": "3.10.6"
  },
  "vscode": {
   "interpreter": {
    "hash": "916dbcbb3f70747c44a77c7bcd40155683ae19c65e1c03b4aa3499c5328201f1"
   }
  }
 },
 "nbformat": 4,
 "nbformat_minor": 4
}
